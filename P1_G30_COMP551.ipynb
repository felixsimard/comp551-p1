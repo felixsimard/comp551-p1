{
  "nbformat": 4,
  "nbformat_minor": 0,
  "metadata": {
    "colab": {
      "name": "P1_G30_COMP551.ipynb",
      "provenance": [],
      "authorship_tag": "ABX9TyO8ilf/MYBrA3G1R00LxGp8",
      "include_colab_link": true
    },
    "kernelspec": {
      "name": "python3",
      "display_name": "Python 3"
    },
    "language_info": {
      "name": "python"
    }
  },
  "cells": [
    {
      "cell_type": "markdown",
      "metadata": {
        "id": "view-in-github",
        "colab_type": "text"
      },
      "source": [
        "<a href=\"https://colab.research.google.com/github/felixsimard/comp551-p1/blob/main/P1_G30_COMP551.ipynb\" target=\"_parent\"><img src=\"https://colab.research.google.com/assets/colab-badge.svg\" alt=\"Open In Colab\"/></a>"
      ]
    },
    {
      "cell_type": "markdown",
      "metadata": {
        "id": "O8AHHb6GWser"
      },
      "source": [
        "\n",
        "# **COMP 551 - Applied Machine Learning**\n",
        "\n",
        "### MiniProject 1: Machine Learning 101\n",
        "\n",
        "Charles Bourbeau (260868653)<br>\n",
        "Hassan Sameh (STUDENT ID)<br>\n",
        "Felix Simard (260865674)\n",
        "\n",
        "**Group 30** <br>\n",
        "September 28th, 2021\n"
      ]
    },
    {
      "cell_type": "markdown",
      "metadata": {
        "id": "v05bykWqX08B"
      },
      "source": [
        "## **Dataset 1: Adult**"
      ]
    },
    {
      "cell_type": "markdown",
      "metadata": {
        "id": "eN4rZyJ8Z0g3"
      },
      "source": [
        "## **Dataset 2: Mushrooms**"
      ]
    }
  ]
}