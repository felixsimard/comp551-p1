{
 "cells": [
  {
   "cell_type": "markdown",
   "id": "1ccb0a10",
   "metadata": {},
   "source": [
    "# Exploratory Data Analysis, KNN & Decision Tree Models\n",
    "\n",
    "* Cleaning data by renaming columns, removing unnecessary data, and making sure there is no damaged data (special characters)\n",
    "* Applying one-hot-encoding to the categorical features of the data set\n",
    "* Implementing feature engineering to extrapolate data from existing relationships\n",
    "* Building models for KNN and Decision Trees to predict for the label"
   ]
  },
  {
   "cell_type": "code",
   "execution_count": 16,
   "id": "bcc58ff7",
   "metadata": {},
   "outputs": [],
   "source": [
    "# All import statements\n",
    "import numpy as np\n",
    "import pandas as pd\n",
    "import sklearn\n",
    "from sklearn.preprocessing import OneHotEncoder\n",
    "from sklearn.neighbors import KNeighborsClassifier\n",
    "from sklearn.metrics import accuracy_score\n",
    "from sklearn.model_selection import train_test_split\n",
    "from sklearn.tree import DecisionTreeClassifier\n",
    "from matplotlib import pyplot as plt"
   ]
  },
  {
   "cell_type": "code",
   "execution_count": 17,
   "id": "55135f83",
   "metadata": {},
   "outputs": [],
   "source": [
    "# Import data from csv files\n",
    "\n",
    "train = pd.read_csv(r'~/desktop/COMP551/COMP551-p1/Adult/adult.csv')\n",
    "testDir = r'~/desktop/COMP551/COMP551-p1/Adult/adult-test.csv'"
   ]
  },
  {
   "cell_type": "code",
   "execution_count": 18,
   "id": "07b13254",
   "metadata": {},
   "outputs": [
    {
     "data": {
      "text/html": [
       "<div>\n",
       "<style scoped>\n",
       "    .dataframe tbody tr th:only-of-type {\n",
       "        vertical-align: middle;\n",
       "    }\n",
       "\n",
       "    .dataframe tbody tr th {\n",
       "        vertical-align: top;\n",
       "    }\n",
       "\n",
       "    .dataframe thead th {\n",
       "        text-align: right;\n",
       "    }\n",
       "</style>\n",
       "<table border=\"1\" class=\"dataframe\">\n",
       "  <thead>\n",
       "    <tr style=\"text-align: right;\">\n",
       "      <th></th>\n",
       "      <th>39</th>\n",
       "      <th>State-gov</th>\n",
       "      <th>77516</th>\n",
       "      <th>Bachelors</th>\n",
       "      <th>13</th>\n",
       "      <th>Never-married</th>\n",
       "      <th>Adm-clerical</th>\n",
       "      <th>Not-in-family</th>\n",
       "      <th>White</th>\n",
       "      <th>Male</th>\n",
       "      <th>2174</th>\n",
       "      <th>0</th>\n",
       "      <th>40</th>\n",
       "      <th>United-States</th>\n",
       "      <th>&lt;=50K</th>\n",
       "    </tr>\n",
       "  </thead>\n",
       "  <tbody>\n",
       "    <tr>\n",
       "      <th>0</th>\n",
       "      <td>50</td>\n",
       "      <td>Self-emp-not-inc</td>\n",
       "      <td>83311</td>\n",
       "      <td>Bachelors</td>\n",
       "      <td>13</td>\n",
       "      <td>Married-civ-spouse</td>\n",
       "      <td>Exec-managerial</td>\n",
       "      <td>Husband</td>\n",
       "      <td>White</td>\n",
       "      <td>Male</td>\n",
       "      <td>0</td>\n",
       "      <td>0</td>\n",
       "      <td>13</td>\n",
       "      <td>United-States</td>\n",
       "      <td>&lt;=50K</td>\n",
       "    </tr>\n",
       "    <tr>\n",
       "      <th>1</th>\n",
       "      <td>38</td>\n",
       "      <td>Private</td>\n",
       "      <td>215646</td>\n",
       "      <td>HS-grad</td>\n",
       "      <td>9</td>\n",
       "      <td>Divorced</td>\n",
       "      <td>Handlers-cleaners</td>\n",
       "      <td>Not-in-family</td>\n",
       "      <td>White</td>\n",
       "      <td>Male</td>\n",
       "      <td>0</td>\n",
       "      <td>0</td>\n",
       "      <td>40</td>\n",
       "      <td>United-States</td>\n",
       "      <td>&lt;=50K</td>\n",
       "    </tr>\n",
       "    <tr>\n",
       "      <th>2</th>\n",
       "      <td>53</td>\n",
       "      <td>Private</td>\n",
       "      <td>234721</td>\n",
       "      <td>11th</td>\n",
       "      <td>7</td>\n",
       "      <td>Married-civ-spouse</td>\n",
       "      <td>Handlers-cleaners</td>\n",
       "      <td>Husband</td>\n",
       "      <td>Black</td>\n",
       "      <td>Male</td>\n",
       "      <td>0</td>\n",
       "      <td>0</td>\n",
       "      <td>40</td>\n",
       "      <td>United-States</td>\n",
       "      <td>&lt;=50K</td>\n",
       "    </tr>\n",
       "    <tr>\n",
       "      <th>3</th>\n",
       "      <td>28</td>\n",
       "      <td>Private</td>\n",
       "      <td>338409</td>\n",
       "      <td>Bachelors</td>\n",
       "      <td>13</td>\n",
       "      <td>Married-civ-spouse</td>\n",
       "      <td>Prof-specialty</td>\n",
       "      <td>Wife</td>\n",
       "      <td>Black</td>\n",
       "      <td>Female</td>\n",
       "      <td>0</td>\n",
       "      <td>0</td>\n",
       "      <td>40</td>\n",
       "      <td>Cuba</td>\n",
       "      <td>&lt;=50K</td>\n",
       "    </tr>\n",
       "    <tr>\n",
       "      <th>4</th>\n",
       "      <td>37</td>\n",
       "      <td>Private</td>\n",
       "      <td>284582</td>\n",
       "      <td>Masters</td>\n",
       "      <td>14</td>\n",
       "      <td>Married-civ-spouse</td>\n",
       "      <td>Exec-managerial</td>\n",
       "      <td>Wife</td>\n",
       "      <td>White</td>\n",
       "      <td>Female</td>\n",
       "      <td>0</td>\n",
       "      <td>0</td>\n",
       "      <td>40</td>\n",
       "      <td>United-States</td>\n",
       "      <td>&lt;=50K</td>\n",
       "    </tr>\n",
       "    <tr>\n",
       "      <th>...</th>\n",
       "      <td>...</td>\n",
       "      <td>...</td>\n",
       "      <td>...</td>\n",
       "      <td>...</td>\n",
       "      <td>...</td>\n",
       "      <td>...</td>\n",
       "      <td>...</td>\n",
       "      <td>...</td>\n",
       "      <td>...</td>\n",
       "      <td>...</td>\n",
       "      <td>...</td>\n",
       "      <td>...</td>\n",
       "      <td>...</td>\n",
       "      <td>...</td>\n",
       "      <td>...</td>\n",
       "    </tr>\n",
       "    <tr>\n",
       "      <th>32555</th>\n",
       "      <td>27</td>\n",
       "      <td>Private</td>\n",
       "      <td>257302</td>\n",
       "      <td>Assoc-acdm</td>\n",
       "      <td>12</td>\n",
       "      <td>Married-civ-spouse</td>\n",
       "      <td>Tech-support</td>\n",
       "      <td>Wife</td>\n",
       "      <td>White</td>\n",
       "      <td>Female</td>\n",
       "      <td>0</td>\n",
       "      <td>0</td>\n",
       "      <td>38</td>\n",
       "      <td>United-States</td>\n",
       "      <td>&lt;=50K</td>\n",
       "    </tr>\n",
       "    <tr>\n",
       "      <th>32556</th>\n",
       "      <td>40</td>\n",
       "      <td>Private</td>\n",
       "      <td>154374</td>\n",
       "      <td>HS-grad</td>\n",
       "      <td>9</td>\n",
       "      <td>Married-civ-spouse</td>\n",
       "      <td>Machine-op-inspct</td>\n",
       "      <td>Husband</td>\n",
       "      <td>White</td>\n",
       "      <td>Male</td>\n",
       "      <td>0</td>\n",
       "      <td>0</td>\n",
       "      <td>40</td>\n",
       "      <td>United-States</td>\n",
       "      <td>&gt;50K</td>\n",
       "    </tr>\n",
       "    <tr>\n",
       "      <th>32557</th>\n",
       "      <td>58</td>\n",
       "      <td>Private</td>\n",
       "      <td>151910</td>\n",
       "      <td>HS-grad</td>\n",
       "      <td>9</td>\n",
       "      <td>Widowed</td>\n",
       "      <td>Adm-clerical</td>\n",
       "      <td>Unmarried</td>\n",
       "      <td>White</td>\n",
       "      <td>Female</td>\n",
       "      <td>0</td>\n",
       "      <td>0</td>\n",
       "      <td>40</td>\n",
       "      <td>United-States</td>\n",
       "      <td>&lt;=50K</td>\n",
       "    </tr>\n",
       "    <tr>\n",
       "      <th>32558</th>\n",
       "      <td>22</td>\n",
       "      <td>Private</td>\n",
       "      <td>201490</td>\n",
       "      <td>HS-grad</td>\n",
       "      <td>9</td>\n",
       "      <td>Never-married</td>\n",
       "      <td>Adm-clerical</td>\n",
       "      <td>Own-child</td>\n",
       "      <td>White</td>\n",
       "      <td>Male</td>\n",
       "      <td>0</td>\n",
       "      <td>0</td>\n",
       "      <td>20</td>\n",
       "      <td>United-States</td>\n",
       "      <td>&lt;=50K</td>\n",
       "    </tr>\n",
       "    <tr>\n",
       "      <th>32559</th>\n",
       "      <td>52</td>\n",
       "      <td>Self-emp-inc</td>\n",
       "      <td>287927</td>\n",
       "      <td>HS-grad</td>\n",
       "      <td>9</td>\n",
       "      <td>Married-civ-spouse</td>\n",
       "      <td>Exec-managerial</td>\n",
       "      <td>Wife</td>\n",
       "      <td>White</td>\n",
       "      <td>Female</td>\n",
       "      <td>15024</td>\n",
       "      <td>0</td>\n",
       "      <td>40</td>\n",
       "      <td>United-States</td>\n",
       "      <td>&gt;50K</td>\n",
       "    </tr>\n",
       "  </tbody>\n",
       "</table>\n",
       "<p>32560 rows × 15 columns</p>\n",
       "</div>"
      ],
      "text/plain": [
       "       39          State-gov   77516    Bachelors   13        Never-married  \\\n",
       "0      50   Self-emp-not-inc   83311    Bachelors   13   Married-civ-spouse   \n",
       "1      38            Private  215646      HS-grad    9             Divorced   \n",
       "2      53            Private  234721         11th    7   Married-civ-spouse   \n",
       "3      28            Private  338409    Bachelors   13   Married-civ-spouse   \n",
       "4      37            Private  284582      Masters   14   Married-civ-spouse   \n",
       "...    ..                ...     ...          ...  ...                  ...   \n",
       "32555  27            Private  257302   Assoc-acdm   12   Married-civ-spouse   \n",
       "32556  40            Private  154374      HS-grad    9   Married-civ-spouse   \n",
       "32557  58            Private  151910      HS-grad    9              Widowed   \n",
       "32558  22            Private  201490      HS-grad    9        Never-married   \n",
       "32559  52       Self-emp-inc  287927      HS-grad    9   Married-civ-spouse   \n",
       "\n",
       "             Adm-clerical   Not-in-family   White     Male   2174   0   40  \\\n",
       "0         Exec-managerial         Husband   White     Male      0   0   13   \n",
       "1       Handlers-cleaners   Not-in-family   White     Male      0   0   40   \n",
       "2       Handlers-cleaners         Husband   Black     Male      0   0   40   \n",
       "3          Prof-specialty            Wife   Black   Female      0   0   40   \n",
       "4         Exec-managerial            Wife   White   Female      0   0   40   \n",
       "...                   ...             ...     ...      ...    ...  ..  ...   \n",
       "32555        Tech-support            Wife   White   Female      0   0   38   \n",
       "32556   Machine-op-inspct         Husband   White     Male      0   0   40   \n",
       "32557        Adm-clerical       Unmarried   White   Female      0   0   40   \n",
       "32558        Adm-clerical       Own-child   White     Male      0   0   20   \n",
       "32559     Exec-managerial            Wife   White   Female  15024   0   40   \n",
       "\n",
       "        United-States   <=50K  \n",
       "0       United-States   <=50K  \n",
       "1       United-States   <=50K  \n",
       "2       United-States   <=50K  \n",
       "3                Cuba   <=50K  \n",
       "4       United-States   <=50K  \n",
       "...               ...     ...  \n",
       "32555   United-States   <=50K  \n",
       "32556   United-States    >50K  \n",
       "32557   United-States   <=50K  \n",
       "32558   United-States   <=50K  \n",
       "32559   United-States    >50K  \n",
       "\n",
       "[32560 rows x 15 columns]"
      ]
     },
     "execution_count": 18,
     "metadata": {},
     "output_type": "execute_result"
    }
   ],
   "source": [
    "# Columns from description of data set\n",
    "columns = ['Age', 'Workclass', 'Education Level', 'Education Years',\n",
    "       'Marital Status', 'Occupation', 'Relationship', 'Race', 'Sex',\n",
    "       'Capital Gain', 'Capital Loss','[To Be Dropped]', 'Hours Per Week', 'Native Country',\n",
    "       ' <=50K']\n",
    "test = pd.read_csv(testDir, skiprows=1, names=columns, sep=', ', engine='python')\n",
    "train"
   ]
  },
  {
   "cell_type": "markdown",
   "id": "5bb2ba63",
   "metadata": {},
   "source": [
    "## Note 0 - Data Cleaning"
   ]
  },
  {
   "cell_type": "code",
   "execution_count": 19,
   "id": "f38e7d42",
   "metadata": {
    "scrolled": true
   },
   "outputs": [
    {
     "data": {
      "text/plain": [
       "Index(['39', ' State-gov', ' 77516', ' Bachelors', ' 13', ' Never-married',\n",
       "       ' Adm-clerical', ' Not-in-family', ' White', ' Male', ' 2174', ' 0',\n",
       "       ' 40', ' United-States', ' <=50K'],\n",
       "      dtype='object')"
      ]
     },
     "execution_count": 19,
     "metadata": {},
     "output_type": "execute_result"
    }
   ],
   "source": [
    "# Observe columns\n",
    "train.columns"
   ]
  },
  {
   "cell_type": "code",
   "execution_count": 20,
   "id": "346df160",
   "metadata": {},
   "outputs": [],
   "source": [
    "# Renaming columns to appropriate names from the dataset description\n",
    "train.rename(columns = {\" United-States\": \"Native Country\",\n",
    "                        \" 40\": \"Hours Per Week\",\n",
    "                        \" 0\": \"Capital Loss\",\n",
    "                        \" 2174\": \"Capital Gain\",\n",
    "                        \" Male\": \"Sex\",\n",
    "                        \" White\": \"Race\",\n",
    "                        \" Not-in-family\": \"Relationship\",\n",
    "                        \" Adm-clerical\": \"Occupation\",\n",
    "                        \" Never-married\": \"Marital Status\",\n",
    "                        \" 13\": \"Education Years\",\n",
    "                        \" Bachelors\": \"Education Level\",\n",
    "                        \" State-gov\": \"Workclass\",\n",
    "                        \"39\": \"Age\"}, inplace=True)"
   ]
  },
  {
   "cell_type": "code",
   "execution_count": 21,
   "id": "76ec8441",
   "metadata": {},
   "outputs": [
    {
     "ename": "KeyError",
     "evalue": "\"['Will Drop You'] not found in axis\"",
     "output_type": "error",
     "traceback": [
      "\u001b[0;31m---------------------------------------------------------------------------\u001b[0m",
      "\u001b[0;31mKeyError\u001b[0m                                  Traceback (most recent call last)",
      "\u001b[0;32m<ipython-input-21-30beda5ef2ef>\u001b[0m in \u001b[0;36m<module>\u001b[0;34m\u001b[0m\n\u001b[1;32m      2\u001b[0m \u001b[0mtrain\u001b[0m\u001b[0;34m.\u001b[0m\u001b[0mdrop\u001b[0m\u001b[0;34m(\u001b[0m\u001b[0;34m\" 77516\"\u001b[0m\u001b[0;34m,\u001b[0m \u001b[0maxis\u001b[0m\u001b[0;34m=\u001b[0m\u001b[0;36m1\u001b[0m\u001b[0;34m,\u001b[0m \u001b[0minplace\u001b[0m\u001b[0;34m=\u001b[0m\u001b[0;32mTrue\u001b[0m\u001b[0;34m)\u001b[0m\u001b[0;34m\u001b[0m\u001b[0;34m\u001b[0m\u001b[0m\n\u001b[1;32m      3\u001b[0m \u001b[0;34m\u001b[0m\u001b[0m\n\u001b[0;32m----> 4\u001b[0;31m \u001b[0mtest\u001b[0m\u001b[0;34m.\u001b[0m\u001b[0mdrop\u001b[0m\u001b[0;34m(\u001b[0m\u001b[0;34m\"Will Drop You\"\u001b[0m\u001b[0;34m,\u001b[0m \u001b[0maxis\u001b[0m\u001b[0;34m=\u001b[0m\u001b[0;36m1\u001b[0m\u001b[0;34m,\u001b[0m \u001b[0minplace\u001b[0m\u001b[0;34m=\u001b[0m\u001b[0;32mTrue\u001b[0m\u001b[0;34m)\u001b[0m\u001b[0;34m\u001b[0m\u001b[0;34m\u001b[0m\u001b[0m\n\u001b[0m",
      "\u001b[0;32m/opt/anaconda3/lib/python3.8/site-packages/pandas/core/frame.py\u001b[0m in \u001b[0;36mdrop\u001b[0;34m(self, labels, axis, index, columns, level, inplace, errors)\u001b[0m\n\u001b[1;32m   4306\u001b[0m                 \u001b[0mweight\u001b[0m  \u001b[0;36m1.0\u001b[0m     \u001b[0;36m0.8\u001b[0m\u001b[0;34m\u001b[0m\u001b[0;34m\u001b[0m\u001b[0m\n\u001b[1;32m   4307\u001b[0m         \"\"\"\n\u001b[0;32m-> 4308\u001b[0;31m         return super().drop(\n\u001b[0m\u001b[1;32m   4309\u001b[0m             \u001b[0mlabels\u001b[0m\u001b[0;34m=\u001b[0m\u001b[0mlabels\u001b[0m\u001b[0;34m,\u001b[0m\u001b[0;34m\u001b[0m\u001b[0;34m\u001b[0m\u001b[0m\n\u001b[1;32m   4310\u001b[0m             \u001b[0maxis\u001b[0m\u001b[0;34m=\u001b[0m\u001b[0maxis\u001b[0m\u001b[0;34m,\u001b[0m\u001b[0;34m\u001b[0m\u001b[0;34m\u001b[0m\u001b[0m\n",
      "\u001b[0;32m/opt/anaconda3/lib/python3.8/site-packages/pandas/core/generic.py\u001b[0m in \u001b[0;36mdrop\u001b[0;34m(self, labels, axis, index, columns, level, inplace, errors)\u001b[0m\n\u001b[1;32m   4151\u001b[0m         \u001b[0;32mfor\u001b[0m \u001b[0maxis\u001b[0m\u001b[0;34m,\u001b[0m \u001b[0mlabels\u001b[0m \u001b[0;32min\u001b[0m \u001b[0maxes\u001b[0m\u001b[0;34m.\u001b[0m\u001b[0mitems\u001b[0m\u001b[0;34m(\u001b[0m\u001b[0;34m)\u001b[0m\u001b[0;34m:\u001b[0m\u001b[0;34m\u001b[0m\u001b[0;34m\u001b[0m\u001b[0m\n\u001b[1;32m   4152\u001b[0m             \u001b[0;32mif\u001b[0m \u001b[0mlabels\u001b[0m \u001b[0;32mis\u001b[0m \u001b[0;32mnot\u001b[0m \u001b[0;32mNone\u001b[0m\u001b[0;34m:\u001b[0m\u001b[0;34m\u001b[0m\u001b[0;34m\u001b[0m\u001b[0m\n\u001b[0;32m-> 4153\u001b[0;31m                 \u001b[0mobj\u001b[0m \u001b[0;34m=\u001b[0m \u001b[0mobj\u001b[0m\u001b[0;34m.\u001b[0m\u001b[0m_drop_axis\u001b[0m\u001b[0;34m(\u001b[0m\u001b[0mlabels\u001b[0m\u001b[0;34m,\u001b[0m \u001b[0maxis\u001b[0m\u001b[0;34m,\u001b[0m \u001b[0mlevel\u001b[0m\u001b[0;34m=\u001b[0m\u001b[0mlevel\u001b[0m\u001b[0;34m,\u001b[0m \u001b[0merrors\u001b[0m\u001b[0;34m=\u001b[0m\u001b[0merrors\u001b[0m\u001b[0;34m)\u001b[0m\u001b[0;34m\u001b[0m\u001b[0;34m\u001b[0m\u001b[0m\n\u001b[0m\u001b[1;32m   4154\u001b[0m \u001b[0;34m\u001b[0m\u001b[0m\n\u001b[1;32m   4155\u001b[0m         \u001b[0;32mif\u001b[0m \u001b[0minplace\u001b[0m\u001b[0;34m:\u001b[0m\u001b[0;34m\u001b[0m\u001b[0;34m\u001b[0m\u001b[0m\n",
      "\u001b[0;32m/opt/anaconda3/lib/python3.8/site-packages/pandas/core/generic.py\u001b[0m in \u001b[0;36m_drop_axis\u001b[0;34m(self, labels, axis, level, errors)\u001b[0m\n\u001b[1;32m   4186\u001b[0m                 \u001b[0mnew_axis\u001b[0m \u001b[0;34m=\u001b[0m \u001b[0maxis\u001b[0m\u001b[0;34m.\u001b[0m\u001b[0mdrop\u001b[0m\u001b[0;34m(\u001b[0m\u001b[0mlabels\u001b[0m\u001b[0;34m,\u001b[0m \u001b[0mlevel\u001b[0m\u001b[0;34m=\u001b[0m\u001b[0mlevel\u001b[0m\u001b[0;34m,\u001b[0m \u001b[0merrors\u001b[0m\u001b[0;34m=\u001b[0m\u001b[0merrors\u001b[0m\u001b[0;34m)\u001b[0m\u001b[0;34m\u001b[0m\u001b[0;34m\u001b[0m\u001b[0m\n\u001b[1;32m   4187\u001b[0m             \u001b[0;32melse\u001b[0m\u001b[0;34m:\u001b[0m\u001b[0;34m\u001b[0m\u001b[0;34m\u001b[0m\u001b[0m\n\u001b[0;32m-> 4188\u001b[0;31m                 \u001b[0mnew_axis\u001b[0m \u001b[0;34m=\u001b[0m \u001b[0maxis\u001b[0m\u001b[0;34m.\u001b[0m\u001b[0mdrop\u001b[0m\u001b[0;34m(\u001b[0m\u001b[0mlabels\u001b[0m\u001b[0;34m,\u001b[0m \u001b[0merrors\u001b[0m\u001b[0;34m=\u001b[0m\u001b[0merrors\u001b[0m\u001b[0;34m)\u001b[0m\u001b[0;34m\u001b[0m\u001b[0;34m\u001b[0m\u001b[0m\n\u001b[0m\u001b[1;32m   4189\u001b[0m             \u001b[0mresult\u001b[0m \u001b[0;34m=\u001b[0m \u001b[0mself\u001b[0m\u001b[0;34m.\u001b[0m\u001b[0mreindex\u001b[0m\u001b[0;34m(\u001b[0m\u001b[0;34m**\u001b[0m\u001b[0;34m{\u001b[0m\u001b[0maxis_name\u001b[0m\u001b[0;34m:\u001b[0m \u001b[0mnew_axis\u001b[0m\u001b[0;34m}\u001b[0m\u001b[0;34m)\u001b[0m\u001b[0;34m\u001b[0m\u001b[0;34m\u001b[0m\u001b[0m\n\u001b[1;32m   4190\u001b[0m \u001b[0;34m\u001b[0m\u001b[0m\n",
      "\u001b[0;32m/opt/anaconda3/lib/python3.8/site-packages/pandas/core/indexes/base.py\u001b[0m in \u001b[0;36mdrop\u001b[0;34m(self, labels, errors)\u001b[0m\n\u001b[1;32m   5589\u001b[0m         \u001b[0;32mif\u001b[0m \u001b[0mmask\u001b[0m\u001b[0;34m.\u001b[0m\u001b[0many\u001b[0m\u001b[0;34m(\u001b[0m\u001b[0;34m)\u001b[0m\u001b[0;34m:\u001b[0m\u001b[0;34m\u001b[0m\u001b[0;34m\u001b[0m\u001b[0m\n\u001b[1;32m   5590\u001b[0m             \u001b[0;32mif\u001b[0m \u001b[0merrors\u001b[0m \u001b[0;34m!=\u001b[0m \u001b[0;34m\"ignore\"\u001b[0m\u001b[0;34m:\u001b[0m\u001b[0;34m\u001b[0m\u001b[0;34m\u001b[0m\u001b[0m\n\u001b[0;32m-> 5591\u001b[0;31m                 \u001b[0;32mraise\u001b[0m \u001b[0mKeyError\u001b[0m\u001b[0;34m(\u001b[0m\u001b[0;34mf\"{labels[mask]} not found in axis\"\u001b[0m\u001b[0;34m)\u001b[0m\u001b[0;34m\u001b[0m\u001b[0;34m\u001b[0m\u001b[0m\n\u001b[0m\u001b[1;32m   5592\u001b[0m             \u001b[0mindexer\u001b[0m \u001b[0;34m=\u001b[0m \u001b[0mindexer\u001b[0m\u001b[0;34m[\u001b[0m\u001b[0;34m~\u001b[0m\u001b[0mmask\u001b[0m\u001b[0;34m]\u001b[0m\u001b[0;34m\u001b[0m\u001b[0;34m\u001b[0m\u001b[0m\n\u001b[1;32m   5593\u001b[0m         \u001b[0;32mreturn\u001b[0m \u001b[0mself\u001b[0m\u001b[0;34m.\u001b[0m\u001b[0mdelete\u001b[0m\u001b[0;34m(\u001b[0m\u001b[0mindexer\u001b[0m\u001b[0;34m)\u001b[0m\u001b[0;34m\u001b[0m\u001b[0;34m\u001b[0m\u001b[0m\n",
      "\u001b[0;31mKeyError\u001b[0m: \"['Will Drop You'] not found in axis\""
     ]
    }
   ],
   "source": [
    "# Removing this feature because data is incomprehensible\n",
    "train.drop(\" 77516\", axis=1, inplace=True)\n",
    "\n",
    "test.drop(\"Will Drop You\", axis=1, inplace=True)"
   ]
  },
  {
   "cell_type": "code",
   "execution_count": null,
   "id": "f4e08eb3",
   "metadata": {},
   "outputs": [],
   "source": [
    "train.columns"
   ]
  },
  {
   "cell_type": "code",
   "execution_count": null,
   "id": "215fe5de",
   "metadata": {},
   "outputs": [],
   "source": [
    "# Transpose of training data statistics for easier viewability\n",
    "print(\"Training data shape: \", train.shape)\n",
    "train.describe().T"
   ]
  },
  {
   "cell_type": "code",
   "execution_count": null,
   "id": "6527b342",
   "metadata": {},
   "outputs": [],
   "source": [
    "# Understanding numerical and categorical feature counts\n",
    "num_data = [c for c in train.columns if train[c].dtype !='O']\n",
    "cat_data = [w for w in train.columns if train[w].dtype == 'O']\n",
    "\n",
    "print(\"Numerical Feature count: \", len(num_data))\n",
    "num_data"
   ]
  },
  {
   "cell_type": "code",
   "execution_count": null,
   "id": "1498df74",
   "metadata": {},
   "outputs": [],
   "source": [
    "print(\"Categorical Feature count: \", len(cat_data))\n",
    "cat_data"
   ]
  },
  {
   "cell_type": "code",
   "execution_count": null,
   "id": "6040a7a2",
   "metadata": {},
   "outputs": [],
   "source": [
    "# null values in data\n",
    "nullCounter = train.isna().sum().sort_values(ascending=False)/len(train)\n",
    "\n",
    "nullCounter"
   ]
  },
  {
   "cell_type": "code",
   "execution_count": null,
   "id": "21681e42",
   "metadata": {},
   "outputs": [],
   "source": [
    "# null values in data\n",
    "nullCounter = test.isna().sum().sort_values(ascending=False)/len(test)\n",
    "\n",
    "nullCounter"
   ]
  },
  {
   "cell_type": "code",
   "execution_count": null,
   "id": "2f189484",
   "metadata": {},
   "outputs": [],
   "source": [
    "train"
   ]
  },
  {
   "cell_type": "code",
   "execution_count": null,
   "id": "4fd0e3f0",
   "metadata": {},
   "outputs": [],
   "source": [
    "zeroCount1 = 0\n",
    "zeroCount2 = 0\n",
    "for x, y in zip(train[\"Capital Loss\"],train[\"Capital Gain\"]):\n",
    "    if x == 0:\n",
    "        zeroCount1 += 1\n",
    "    if y == 0:\n",
    "        zeroCount2 += 1\n",
    "\n",
    "print(zeroCount1, zeroCount2)"
   ]
  },
  {
   "cell_type": "code",
   "execution_count": null,
   "id": "4de194b2",
   "metadata": {},
   "outputs": [],
   "source": [
    "train.drop(\"Capital Loss\", axis=1, inplace=True)\n",
    "test.drop(\"Capital Loss\", axis=1, inplace=True)"
   ]
  },
  {
   "cell_type": "code",
   "execution_count": null,
   "id": "f6c39086",
   "metadata": {},
   "outputs": [],
   "source": [
    "train.drop(\"Capital Gain\", axis=1, inplace=True)\n",
    "test.drop(\"Capital Gain\", axis=1, inplace=True)"
   ]
  },
  {
   "cell_type": "code",
   "execution_count": null,
   "id": "028007dc",
   "metadata": {},
   "outputs": [],
   "source": [
    "train.columns"
   ]
  },
  {
   "cell_type": "code",
   "execution_count": null,
   "id": "70b68368",
   "metadata": {},
   "outputs": [],
   "source": [
    "test.columns"
   ]
  },
  {
   "cell_type": "code",
   "execution_count": null,
   "id": "c43bd0e6",
   "metadata": {
    "scrolled": true
   },
   "outputs": [],
   "source": [
    "train.info()"
   ]
  },
  {
   "cell_type": "code",
   "execution_count": null,
   "id": "a71f4eb0",
   "metadata": {},
   "outputs": [],
   "source": [
    "# Now the data below does not have any null values nor does it have irrelevant or incomprehensible features\n",
    "train"
   ]
  },
  {
   "cell_type": "code",
   "execution_count": null,
   "id": "4a1391ac",
   "metadata": {},
   "outputs": [],
   "source": [
    "# The next thing is to look for special characters in the data which may indicate damaged data\n",
    "train.isin([' ?']).sum()"
   ]
  },
  {
   "cell_type": "code",
   "execution_count": null,
   "id": "eba7525b",
   "metadata": {},
   "outputs": [],
   "source": [
    "test.isin(['?']).sum()"
   ]
  },
  {
   "cell_type": "code",
   "execution_count": null,
   "id": "ea047841",
   "metadata": {},
   "outputs": [],
   "source": [
    "test.drop(test.index[test['Workclass'] == '?'], inplace = True)\n",
    "test.drop(test.index[test['Relationship'] == '?'], inplace = True)\n",
    "test.drop(test.index[test['Native Country'] == '?'], inplace = True)"
   ]
  },
  {
   "cell_type": "code",
   "execution_count": null,
   "id": "a10e067f",
   "metadata": {},
   "outputs": [],
   "source": [
    "# The occupation column as a significant \"?\"-value count\n",
    "train.drop(train.index[train['Occupation'] == ' ?'], inplace = True)"
   ]
  },
  {
   "cell_type": "code",
   "execution_count": null,
   "id": "8c711504",
   "metadata": {},
   "outputs": [],
   "source": [
    "# The native country column also has these\n",
    "train.drop(train.index[train['Native Country'] == ' ?'], inplace = True)"
   ]
  },
  {
   "cell_type": "code",
   "execution_count": null,
   "id": "02f7e8ad",
   "metadata": {},
   "outputs": [],
   "source": [
    "# The next thing is to look for special characters in the data which may indicate damaged data\n",
    "train.isin([' ?']).sum()"
   ]
  },
  {
   "cell_type": "code",
   "execution_count": null,
   "id": "e2d15ec2",
   "metadata": {
    "scrolled": false
   },
   "outputs": [],
   "source": [
    "test.head(10)"
   ]
  },
  {
   "cell_type": "code",
   "execution_count": null,
   "id": "7982a5b9",
   "metadata": {},
   "outputs": [],
   "source": [
    "test.columns"
   ]
  },
  {
   "cell_type": "markdown",
   "id": "838cab71",
   "metadata": {},
   "source": [
    "## Note 1 - One hot encoding\n",
    "\n",
    "Now, the training data set has been cleaned relatively well. The next step is to include some feature engineering and make sure the test data is in the same format as the cleaned training data set to ensure the same input space compatibility. However, before moving on to the feature engineering, we must apply one-hot-encoding to the categorical data in the data set."
   ]
  },
  {
   "cell_type": "code",
   "execution_count": null,
   "id": "96a353b7",
   "metadata": {},
   "outputs": [],
   "source": [
    "# Re-listing categorical features to one hot encode\n",
    "cat_data"
   ]
  },
  {
   "cell_type": "code",
   "execution_count": null,
   "id": "3d1fb313",
   "metadata": {},
   "outputs": [],
   "source": [
    "train = train.rename(columns={' <=50K': 'incomeGT50'})"
   ]
  },
  {
   "cell_type": "code",
   "execution_count": null,
   "id": "a3bf66b6",
   "metadata": {},
   "outputs": [],
   "source": [
    "test = test.rename(columns={' <=50K': 'incomeGT50'})"
   ]
  },
  {
   "cell_type": "code",
   "execution_count": null,
   "id": "3772dd0c",
   "metadata": {},
   "outputs": [],
   "source": [
    "inter_train = train[['Workclass',\n",
    " 'Education Level',\n",
    " 'Marital Status',\n",
    " 'Occupation',\n",
    " 'Relationship',\n",
    " 'Race',\n",
    " 'Sex',\n",
    " 'Native Country',\n",
    " 'incomeGT50']]\n",
    "\n",
    "inter_test = test[['Workclass',\n",
    " 'Education Level',\n",
    " 'Marital Status',\n",
    " 'Occupation',\n",
    " 'Relationship',\n",
    " 'Race',\n",
    " 'Sex',\n",
    " 'Native Country',\n",
    " 'incomeGT50']]\n",
    "\n",
    "inter_test"
   ]
  },
  {
   "cell_type": "code",
   "execution_count": null,
   "id": "cde58784",
   "metadata": {
    "scrolled": true
   },
   "outputs": [],
   "source": [
    "train_ohe = pd.get_dummies(inter_train)\n",
    "test_ohe = pd.get_dummies(inter_test)\n",
    "test_ohe.shape"
   ]
  },
  {
   "cell_type": "code",
   "execution_count": null,
   "id": "7b01fd79",
   "metadata": {},
   "outputs": [],
   "source": []
  },
  {
   "cell_type": "code",
   "execution_count": null,
   "id": "16bbc11a",
   "metadata": {},
   "outputs": [],
   "source": [
    "train.head()"
   ]
  },
  {
   "cell_type": "code",
   "execution_count": null,
   "id": "1ffb8930",
   "metadata": {},
   "outputs": [],
   "source": [
    "# Now we can generate the data set to feed to the knn model (purely numerical data set)\n",
    "train_original_num = train[['Age', 'Education Years', 'Hours Per Week']]\n",
    "frames = [train_ohe,train_original_num]\n",
    "_train_numerical = pd.concat(frames, axis=1)\n",
    "\n",
    "test_original_num = test[['Age', 'Education Years', 'Hours Per Week']]\n",
    "frames2 = [test_ohe,test_original_num]\n",
    "_test_numerical = pd.concat(frames2, axis=1)\n",
    "\n",
    "# Shapes of the final, cleaned data sets\n",
    "print(_train_numerical.shape, test.shape)\n",
    "\n",
    "print(_test_numerical.columns)"
   ]
  },
  {
   "cell_type": "code",
   "execution_count": null,
   "id": "d3687e11",
   "metadata": {},
   "outputs": [],
   "source": [
    "df.groupby('Employee')['Age'].apply(lambda group_series: group_series.tolist()).reset_index()"
   ]
  },
  {
   "cell_type": "markdown",
   "id": "d3535a94",
   "metadata": {},
   "source": [
    "## Note 2 - Feature Engineering"
   ]
  },
  {
   "cell_type": "code",
   "execution_count": null,
   "id": "106fc881",
   "metadata": {},
   "outputs": [],
   "source": [
    "# Distributions of values in categorical features\n",
    "for col in train.columns:\n",
    "    plt.figure()\n",
    "    train.groupby(by=col).size().plot.bar()"
   ]
  },
  {
   "cell_type": "code",
   "execution_count": null,
   "id": "04877e5e",
   "metadata": {
    "scrolled": false
   },
   "outputs": [],
   "source": [
    "for col in train.columns:\n",
    "    print (\"---- %s ---\" % col)\n",
    "    print (train[col].value_counts())"
   ]
  },
  {
   "cell_type": "code",
   "execution_count": null,
   "id": "28fbdfc0",
   "metadata": {},
   "outputs": [],
   "source": [
    "train['IncomeBin'] = train['incomeGT50'].map({' <=50K': 0, ' >50K': 1}).astype(int)"
   ]
  },
  {
   "cell_type": "code",
   "execution_count": null,
   "id": "96bef8d4",
   "metadata": {
    "scrolled": true
   },
   "outputs": [],
   "source": [
    "train.groupby('Age').IncomeBin.mean().plot(kind='bar', figsize=(16,14))"
   ]
  },
  {
   "cell_type": "code",
   "execution_count": null,
   "id": "963e98f0",
   "metadata": {
    "scrolled": false
   },
   "outputs": [],
   "source": [
    "train.groupby('Education Years').IncomeBin.mean().plot(kind='bar', figsize=(8,6))"
   ]
  },
  {
   "cell_type": "code",
   "execution_count": null,
   "id": "5b53e9f5",
   "metadata": {
    "scrolled": true
   },
   "outputs": [],
   "source": [
    "train.groupby('Hours Per Week').IncomeBin.mean().plot(kind='bar', figsize=(16,14))"
   ]
  },
  {
   "cell_type": "markdown",
   "id": "b709b2a0",
   "metadata": {},
   "source": [
    "## Note 3 - KNN Classifier"
   ]
  },
  {
   "cell_type": "code",
   "execution_count": null,
   "id": "1578b25f",
   "metadata": {},
   "outputs": [],
   "source": [
    "# Hyper-parameter K\n",
    "K = 5\n",
    "\n",
    "Xtrain_df = _train_numerical.drop(['incomeGT50_ <=50K', 'incomeGT50_ >50K'], 1)\n",
    "X = np.array(Xtrain_df)\n",
    "\n",
    "#Xtest_df = test.drop(['<=50K'], 1)\n",
    "#Xtest = np.array(Xtest_df)\n",
    "\n",
    "Ytrain_df = _train_numerical[['incomeGT50_ <=50K', 'incomeGT50_ >50K']]\n",
    "Y = np.array(Ytrain_df)\n",
    "\n",
    "#Y_test = np.array(test)\n",
    "\n",
    "X_train, X_test, y_train, y_test = train_test_split(X, Y, test_size = 0.20)"
   ]
  },
  {
   "cell_type": "code",
   "execution_count": null,
   "id": "73387ef1",
   "metadata": {},
   "outputs": [],
   "source": [
    "clf = KNeighborsClassifier(n_neighbors=K)\n",
    "clf.fit(X_train, y_train)"
   ]
  },
  {
   "cell_type": "code",
   "execution_count": null,
   "id": "b5c57e7b",
   "metadata": {
    "scrolled": true
   },
   "outputs": [],
   "source": [
    "print(\"K = \", K)\n",
    "\n",
    "# Test on model on the test dataset\n",
    "y_pred = clf.predict(X_test)\n",
    "acc_score = accuracy_score(y_pred, y_test)\n",
    "print(\"KNN accuracy:\", acc_score)"
   ]
  },
  {
   "cell_type": "markdown",
   "id": "b9e934d8",
   "metadata": {},
   "source": [
    "## Note 4 Decision Tree Classifier"
   ]
  },
  {
   "cell_type": "code",
   "execution_count": null,
   "id": "ac7adfb9",
   "metadata": {},
   "outputs": [],
   "source": [
    "clf = DecisionTreeClassifier(random_state=1)\n",
    "clf.fit(X_train, y_train)"
   ]
  },
  {
   "cell_type": "code",
   "execution_count": null,
   "id": "ca6cea86",
   "metadata": {},
   "outputs": [],
   "source": [
    "# Test on model on the test dataset\n",
    "y_pred = clf.predict(X_test)\n",
    "acc_score = accuracy_score(y_pred, y_test)\n",
    "print(\"Decision Tree accuracy:\", acc_score)\n",
    "\n",
    "# Determine our model's score\n",
    "score = clf.score(X_test, y_test)\n",
    "print(score)"
   ]
  },
  {
   "cell_type": "code",
   "execution_count": null,
   "id": "bdfd47d2",
   "metadata": {},
   "outputs": [],
   "source": []
  }
 ],
 "metadata": {
  "kernelspec": {
   "display_name": "Python 3",
   "language": "python",
   "name": "python3"
  },
  "language_info": {
   "codemirror_mode": {
    "name": "ipython",
    "version": 3
   },
   "file_extension": ".py",
   "mimetype": "text/x-python",
   "name": "python",
   "nbconvert_exporter": "python",
   "pygments_lexer": "ipython3",
   "version": "3.8.8"
  }
 },
 "nbformat": 4,
 "nbformat_minor": 5
}
